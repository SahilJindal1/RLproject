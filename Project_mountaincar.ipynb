{
 "cells": [
  {
   "cell_type": "code",
   "execution_count": 1,
   "id": "d3116e57",
   "metadata": {},
   "outputs": [
    {
     "name": "stdout",
     "output_type": "stream",
     "text": [
      "n_state_feat 2\n",
      "[0 1 2]\n",
      "n_actions 3\n"
     ]
    }
   ],
   "source": [
    "import gym\n",
    "import numpy as np\n",
    "from itertools import product\n",
    "\n",
    "env = gym.make('MountainCar-v0')\n",
    "\n",
    "state_space = env.observation_space\n",
    "n_state_feat = state_space.shape[0]\n",
    "\n",
    "print(\"n_state_feat\",n_state_feat)\n",
    "\n",
    "action_space = env.action_space\n",
    "n_action = action_space.n\n",
    "actions = np.asarray(range(n_action))\n",
    "print(actions)\n",
    "print(\"n_actions\",n_action)\n",
    "# print(\"action space\",action_space)\n",
    "\n",
    "#parameters\n",
    "epsilon = 5e-2 # probability of choosing a random action (changed from original value of 0.0)\n",
    "alpha = 5e-5 # learning rate\n",
    "lambda_ = 0.9 # trace decay rate\n",
    "gamma = 1 # discount rate\n",
    "\n",
    "order = 5\n",
    "\n",
    "k = n_state_feat\n",
    "\n",
    "d = (order+1) ** k\n",
    "\n",
    "w = np.zeros((d,n_action))\n",
    "\n",
    "combinations = None\n",
    "combinations_generated = False\n",
    "\n"
   ]
  },
  {
   "cell_type": "code",
   "execution_count": 2,
   "id": "8ebb5a45",
   "metadata": {},
   "outputs": [],
   "source": [
    "iterations = 1500"
   ]
  },
  {
   "cell_type": "code",
   "execution_count": 3,
   "id": "92d7bbe9",
   "metadata": {},
   "outputs": [],
   "source": [
    "def get_feature(env, state, order=5, k=4):\n",
    "    \n",
    "    global combinations, combinations_generated\n",
    "    \n",
    "#     Clipped State\n",
    "    \n",
    "    low = env.observation_space.low\n",
    "    high = env.observation_space.high\n",
    "    \n",
    "    clipped = np.clip(state, low, high)\n",
    "    \n",
    "    # Normalize the state\n",
    "    normalized = (clipped - low) / (high - low)\n",
    "    \n",
    "    \n",
    "    # Compute Fourier-Basis features\n",
    "    if combinations_generated == False:\n",
    "        combinations = np.array(list(product(range(order + 1), repeat = k)))\n",
    "        combinations_generated = True\n",
    "        \n",
    "    features = np.cos(np.pi * np.matmul(combinations, np.expand_dims(normalized, axis=1)))\n",
    "    \n",
    "    return np.asarray(features)\n",
    "        \n",
    "\n",
    "def get_pi(pi,q,n_action, epsilon = 0.05):\n",
    "    \n",
    "    a_star = np.argwhere(q[:] == np.amax(q[:])).flatten()\n",
    "    \n",
    "    num_a = len(a_star)\n",
    "    \n",
    "    y  = (epsilon/n_action)\n",
    "    x = ((1-epsilon)/num_a)+ y\n",
    "\n",
    "    for a in range(n_action):\n",
    "\n",
    "        if(a in a_star):\n",
    "            pi[a] = x\n",
    "        else:\n",
    "            pi[a] = y\n",
    "    return pi\n",
    "\n",
    "def update_q(q , w , env , state , actions ,  order = 5 , k = 4):\n",
    "    \n",
    "    x = np.squeeze(get_feature(env,state, order = order, k = k))\n",
    "\n",
    "    for a in actions:\n",
    "        q[a] = w[:,a].dot(x)\n",
    "\n",
    "    return (q,x)"
   ]
  },
  {
   "cell_type": "code",
   "execution_count": 4,
   "id": "958a3384",
   "metadata": {},
   "outputs": [],
   "source": [
    "def sarsa_lambda(env, w , n_state_feat , actions, n_action, n_dims , alpha , lambda_ , epsilon , gamma, iterations,order,k):\n",
    "    events = 10\n",
    "    hist_len = np.zeros((events,iterations))\n",
    "    for event in range(events):\n",
    "        print(\"Event is \",event)\n",
    "        #Loop over episodes\n",
    "\n",
    "        ##################Start########################\n",
    "\n",
    "        q = np.zeros(n_action) #need to be changed as n_state should be a vector\n",
    "\n",
    "        pi = np.zeros(n_action)\n",
    "        \n",
    "        w = np.zeros((n_dims,n_action))\n",
    "\n",
    "        for iteration in range(iterations): #Looping for each episode\n",
    "\n",
    "            s = env.reset()\n",
    "\n",
    "            done = False\n",
    "\n",
    "            q , x = update_q(q, w, env, s, actions,  order, k) # updating q\n",
    "\n",
    "            pi = get_pi(pi,q,n_action, epsilon)\n",
    "\n",
    "            a = np.random.choice(actions , p = pi)\n",
    "\n",
    "            z = np.zeros(n_dims) # eligibility vector\n",
    "\n",
    "            Q_old = 0 # scalar\n",
    "\n",
    "            episode_length = 0\n",
    "\n",
    "            while not done:\n",
    "                episode_length +=1\n",
    "\n",
    "                # Perform the action\n",
    "                s_dash, R, done, _ = env.step(a) #observing R and S'\n",
    "\n",
    "                # Next Action\n",
    "                q_dash , x_dash = update_q(q, w, env, s_dash, actions,  order, k) # updating q\n",
    "\n",
    "                pi = get_pi(pi,q_dash,n_action, epsilon)\n",
    "\n",
    "                a_dash = np.random.choice(actions,p = pi)\n",
    "\n",
    "                Q = w[:,a].dot(x)\n",
    "\n",
    "                Q_dash = w[:,a_dash].dot(x_dash)\n",
    "\n",
    "                delta = R + gamma * Q_dash - Q           \n",
    "\n",
    "                z = gamma * lambda_* z + (1 - alpha*gamma*lambda_*(z.dot(x))) * x \n",
    "\n",
    "                w[:,a] = w[:,a] + alpha * ( delta + Q - Q_old ) * z - alpha * ( Q - Q_old ) * x\n",
    "\n",
    "                Q_old = Q_dash\n",
    "\n",
    "                x = x_dash\n",
    "                a = a_dash\n",
    "\n",
    "            #print(\"length is \",episode_length)\n",
    "            hist_len[event,iteration] = episode_length\n",
    "        print(\"Episode_lengths\",hist_len[event,:])\n",
    "    return hist_len"
   ]
  },
  {
   "cell_type": "code",
   "execution_count": 5,
   "id": "40c23b04",
   "metadata": {},
   "outputs": [
    {
     "name": "stdout",
     "output_type": "stream",
     "text": [
      "Event is  0\n",
      "Episode_lengths [200. 200. 200. ... 150. 152. 117.]\n",
      "Event is  1\n",
      "Episode_lengths [200. 200. 200. ... 147. 120.  91.]\n",
      "Event is  2\n",
      "Episode_lengths [200. 200. 200. ... 150. 117. 117.]\n",
      "Event is  3\n",
      "Episode_lengths [200. 200. 200. ... 153. 157. 114.]\n",
      "Event is  4\n",
      "Episode_lengths [200. 200. 200. ... 147. 157. 116.]\n",
      "Event is  5\n",
      "Episode_lengths [200. 200. 200. ... 127. 113. 149.]\n",
      "Event is  6\n",
      "Episode_lengths [200. 200. 200. ... 111. 154. 117.]\n",
      "Event is  7\n",
      "Episode_lengths [200. 200. 200. ... 112. 120. 117.]\n",
      "Event is  8\n",
      "Episode_lengths [200. 200. 200. ... 119. 114. 118.]\n",
      "Event is  9\n",
      "Episode_lengths [200. 200. 200. ... 152. 172. 148.]\n"
     ]
    }
   ],
   "source": [
    "episode_lengths_history = sarsa_lambda(env, w , n_state_feat , actions, n_action, d , alpha , lambda_ , epsilon , gamma, iterations,order,k)"
   ]
  },
  {
   "cell_type": "code",
   "execution_count": 6,
   "id": "33b9fb39",
   "metadata": {},
   "outputs": [],
   "source": [
    "episode_lengths_avg = np.mean(episode_lengths_history, axis=0)\n",
    "episode_lengths_std = np.std(episode_lengths_history, axis=0)"
   ]
  },
  {
   "cell_type": "code",
   "execution_count": 7,
   "id": "51d581fe",
   "metadata": {},
   "outputs": [
    {
     "name": "stdout",
     "output_type": "stream",
     "text": [
      "[200.  200.  200.  ... 136.8 137.6 120.4]\n"
     ]
    }
   ],
   "source": [
    "print(episode_lengths_avg)"
   ]
  },
  {
   "cell_type": "code",
   "execution_count": 9,
   "id": "b3c92a35",
   "metadata": {},
   "outputs": [
    {
     "data": {
      "image/png": "[encoded data removed]",
      "text/plain": [
       "<Figure size 432x288 with 1 Axes>"
      ]
     },
     "metadata": {
      "needs_background": "light"
     },
     "output_type": "display_data"
    }
   ],
   "source": [
    "import matplotlib.pyplot as plt\n",
    "plt.plot(np.arange(iterations), episode_lengths_avg)\n",
    "plt.fill_between(np.arange(iterations), episode_lengths_avg - episode_lengths_std / 2, \\\n",
    "                 episode_lengths_avg + episode_lengths_std / 2, color='blue', alpha=0.2)\n",
    "plt.title('Avg. Episode Length v/s No. Episodes')\n",
    "plt.xlabel('No. Episodes')\n",
    "plt.ylabel('Avg. Episode Length')\n",
    "plt.savefig(\"/home/sahil/Desktop/CS 687/Project/sarsa_lambda_mountaincar.png\")\n",
    "plt.show()"
   ]
  },
  {
   "cell_type": "code",
   "execution_count": null,
   "id": "ca845c5c",
   "metadata": {},
   "outputs": [],
   "source": []
  }
 ],
 "metadata": {
  "kernelspec": {
   "display_name": "Python 3 (ipykernel)",
   "language": "python",
   "name": "python3"
  },
  "language_info": {
   "codemirror_mode": {
    "name": "ipython",
    "version": 3
   },
   "file_extension": ".py",
   "mimetype": "text/x-python",
   "name": "python",
   "nbconvert_exporter": "python",
   "pygments_lexer": "ipython3",
   "version": "3.8.12"
  }
 },
 "nbformat": 4,
 "nbformat_minor": 5
}
